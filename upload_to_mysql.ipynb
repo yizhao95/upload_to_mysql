{
 "cells": [
  {
   "cell_type": "code",
   "execution_count": 17,
   "metadata": {},
   "outputs": [],
   "source": [
    "from mysql.connector import MySQLConnection, Error\n",
    "import mysql.connector\n",
    "from datetime import datetime\n",
    "\n",
    "def upload(data,column_names = None, tablename = 'table',host='localhost',database='database',user = 'root',password = '123'):\n",
    "    \n",
    "    try:\n",
    "        connection = mysql.connector.connect(host=host,\n",
    "                                             database=database,\n",
    "                                             user=user,\n",
    "                                             password=password)\n",
    "        if connection.is_connected():\n",
    "            valuelen = (('%s')*len(data))[:-1]\n",
    "            if column_names != None:\n",
    "                query =\"INSERT INTO \" + str(tablename)+' ('+str(column_names)+') ' +\"VALUES \"+(valuelen)\n",
    "                db_Info = connection.get_server_info()\n",
    "                print(\"Connected to MySQL Server version \", db_Info)\n",
    "                cursor = connection.cursor()\n",
    "                cursor.execute(query, data)\n",
    "                connection.commit()\n",
    "                print(\"Prediction result uploaded\")\n",
    "                \n",
    "            else:\n",
    "                query = \"INSERT INTO \" + str(tablename) +\"VALUES \"+(valuelen)\n",
    "                db_Info = connection.get_server_info()\n",
    "                print(\"Connected to MySQL Server version \", db_Info)\n",
    "                cursor = connection.cursor()\n",
    "                cursor.execute(query, data)\n",
    "                connection.commit()\n",
    "                print(\"Prediction result uploaded\")\n",
    "\n",
    "    except Error as e:\n",
    "        print(\"Error while connecting to MySQL\", e)\n",
    "    \n",
    "    return\n",
    "\n"
   ]
  },
  {
   "cell_type": "code",
   "execution_count": null,
   "metadata": {},
   "outputs": [],
   "source": []
  },
  {
   "cell_type": "code",
   "execution_count": null,
   "metadata": {},
   "outputs": [],
   "source": []
  }
 ],
 "metadata": {
  "kernelspec": {
   "display_name": "Python 3",
   "language": "python",
   "name": "python3"
  },
  "language_info": {
   "codemirror_mode": {
    "name": "ipython",
    "version": 3
   },
   "file_extension": ".py",
   "mimetype": "text/x-python",
   "name": "python",
   "nbconvert_exporter": "python",
   "pygments_lexer": "ipython3",
   "version": "3.7.3"
  }
 },
 "nbformat": 4,
 "nbformat_minor": 2
}
